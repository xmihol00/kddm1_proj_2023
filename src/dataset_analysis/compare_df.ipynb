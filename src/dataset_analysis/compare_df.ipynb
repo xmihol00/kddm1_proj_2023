{
 "cells": [
  {
   "cell_type": "code",
   "execution_count": 3,
   "metadata": {},
   "outputs": [],
   "source": [
    "import pandas as pd\n",
    "import numpy as np\n",
    "import matplotlib.pyplot as plt\n",
    "import seaborn as sns\n",
    "import os\n",
    "import datetime as dt"
   ]
  },
  {
   "cell_type": "code",
   "execution_count": 4,
   "metadata": {},
   "outputs": [
    {
     "name": "stdout",
     "output_type": "stream",
     "text": [
      "d:\\_MyDoc\\UNI\\MA-INF\\B_Data_Science\\2.Sem\\KDDM1-Know. Disc. & Data Mining 1\\2023_SS\\UE\\Ass\\_repo_kdd1_proj_2023\n"
     ]
    }
   ],
   "source": [
    "if (os.getcwd().endswith(\"dataset_analysis\")):\n",
    "    os.chdir(\"./../../\")\n",
    "print(os.getcwd())"
   ]
  },
  {
   "cell_type": "code",
   "execution_count": 11,
   "metadata": {},
   "outputs": [
    {
     "name": "stdout",
     "output_type": "stream",
     "text": [
      "Empty DataFrame\n",
      "Columns: []\n",
      "Index: []\n"
     ]
    }
   ],
   "source": [
    "# get 'uk_universities.csv' from https://www.kaggle.com/datasets/mayureshkoli/best-universities-in-the-united-kingdom \n",
    "\n",
    "df1 = pd.read_csv(\"./data/03_imputation/Universities_train_median_imputed.csv\")\n",
    "df2 = pd.read_csv(\"./data/03_imputation/Universities_train_median_imputed.csv\")\n",
    "\n",
    "print(df1.compare(df2))"
   ]
  }
 ],
 "metadata": {
  "kernelspec": {
   "display_name": "base",
   "language": "python",
   "name": "python3"
  },
  "language_info": {
   "codemirror_mode": {
    "name": "ipython",
    "version": 3
   },
   "file_extension": ".py",
   "mimetype": "text/x-python",
   "name": "python",
   "nbconvert_exporter": "python",
   "pygments_lexer": "ipython3",
   "version": "3.8.16"
  },
  "orig_nbformat": 4
 },
 "nbformat": 4,
 "nbformat_minor": 2
}
